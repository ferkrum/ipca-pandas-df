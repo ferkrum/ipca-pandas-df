{
 "cells": [
  {
   "cell_type": "markdown",
   "metadata": {},
   "source": [
    "# Obtendo série histórica de IPCA\n",
    "\n",
    "Obtendo série histórica relativa à inflação (IPCA) na plataforma de dados abertos do BC, importando e transformando em um DataFrame do Pandas.\n",
    "URL: https://dadosabertos.bcb.gov.br/\n",
    "\n",
    "São diversos tipos de IPCA: Não comercializáveis, comercializáveis, itens livres, serviços, duráveis, bens semi-duráveis, bens não-duráveis, núcle médias aparadas, Preços monitorados - Total.\n",
    "\n",
    "Vamos utilizar os itens comercializáveis, \"Índice nacional de preços ao consumidor-Amplo (IPCA) - Comercializáveis\" \n",
    "\n",
    "Conceito: Indicadores que mensuram a variação de preços (sob a ótica do consumidor). Os principais indicadores coletados são: IPC-Fipe IPCA IPCA-15 INPC ICV IPCA-E\n",
    "Fonte: Banco Central do Brasil – Departamento Econômico\n",
    "\n",
    "https://dadosabertos.bcb.gov.br/dataset/4447-indice-nacional-de-precos-ao-consumidor-amplo-ipca---comercializaveis\n"
   ]
  },
  {
   "cell_type": "code",
   "execution_count": 106,
   "metadata": {},
   "outputs": [],
   "source": [
    "import pandas as pd\n",
    "import json\n",
    "import requests"
   ]
  },
  {
   "cell_type": "code",
   "execution_count": 107,
   "metadata": {},
   "outputs": [],
   "source": [
    "URL = 'http://api.bcb.gov.br/dados/serie/bcdata.sgs.4447/dados?formato=json'"
   ]
  },
  {
   "cell_type": "code",
   "execution_count": 108,
   "metadata": {},
   "outputs": [],
   "source": [
    "dados = requests.get(URL)"
   ]
  },
  {
   "cell_type": "code",
   "execution_count": 109,
   "metadata": {},
   "outputs": [
    {
     "name": "stdout",
     "output_type": "stream",
     "text": [
      "367\n"
     ]
    }
   ],
   "source": [
    "#vamos usar a biblioteca json para ler os dados\n",
    "listaDados = dados.json()\n",
    "print(len(listaDados))"
   ]
  },
  {
   "cell_type": "code",
   "execution_count": 110,
   "metadata": {},
   "outputs": [],
   "source": [
    "dataframe = pd.DataFrame(listaDados)"
   ]
  },
  {
   "cell_type": "code",
   "execution_count": 111,
   "metadata": {},
   "outputs": [],
   "source": [
    "datainicial = str(dataframe.head(1).iat[0, 0])\n",
    "datafinal = str(dataframe.tail(1).iat[0 , 0])"
   ]
  },
  {
   "cell_type": "code",
   "execution_count": 112,
   "metadata": {},
   "outputs": [
    {
     "data": {
      "text/plain": [
       "'01/07/2022'"
      ]
     },
     "execution_count": 112,
     "metadata": {},
     "output_type": "execute_result"
    }
   ],
   "source": [
    "datafinal"
   ]
  },
  {
   "cell_type": "code",
   "execution_count": 113,
   "metadata": {},
   "outputs": [],
   "source": [
    "nomeArquivo = 'ipca(' + datainicial + '_a_' + datafinal + ').csv'"
   ]
  },
  {
   "cell_type": "code",
   "execution_count": 114,
   "metadata": {},
   "outputs": [
    {
     "data": {
      "text/plain": [
       "'ipca(01/01/1992_a_01/07/2022).csv'"
      ]
     },
     "execution_count": 114,
     "metadata": {},
     "output_type": "execute_result"
    }
   ],
   "source": [
    "nomeArquivo"
   ]
  },
  {
   "cell_type": "code",
   "execution_count": 115,
   "metadata": {},
   "outputs": [],
   "source": [
    "dataframe.to_csv('ipca.csv')"
   ]
  }
 ],
 "metadata": {
  "kernelspec": {
   "display_name": "Python 3.10.6 ('venv': venv)",
   "language": "python",
   "name": "python3"
  },
  "language_info": {
   "codemirror_mode": {
    "name": "ipython",
    "version": 3
   },
   "file_extension": ".py",
   "mimetype": "text/x-python",
   "name": "python",
   "nbconvert_exporter": "python",
   "pygments_lexer": "ipython3",
   "version": "3.10.6"
  },
  "orig_nbformat": 4,
  "vscode": {
   "interpreter": {
    "hash": "65e15074db0ce0c06277cbfe6b2480b7b8f615c27d90593ada4ec7342456f97a"
   }
  }
 },
 "nbformat": 4,
 "nbformat_minor": 2
}
