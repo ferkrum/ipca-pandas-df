{
 "cells": [
  {
   "cell_type": "markdown",
   "metadata": {},
   "source": [
    "# Estrutura de funcionamento da estrutura dos projetos.\n",
    "\n",
    "./CODE\n",
    "./code/prep Notebook/estudos. Códigos experimentais. Preprocessing lê arquivos de ./data/raw e grava em ./data/processed.\n",
    "./code/model\n",
    "\n",
    "\n",
    "./DATA\n",
    "./data/raw:              Dados \"sujos\", com nulos, etc. O único acesso ao RAW é dado pelo \"Preprocessing\"\n",
    "./data/processed:        Recebe os dados tratados de RAW. Os acessos a Processed podem vir de \"Analysis\" e \"Model\"\n",
    "\n",
    "\n",
    "RAÍZ\n",
    "./requirements.txt\n",
    "./.env                   variáveis de ambiente \n",
    "\n",
    "\n"
   ]
  },
  {
   "cell_type": "code",
   "execution_count": 1,
   "metadata": {},
   "outputs": [],
   "source": [
    "import pandas as pd\n",
    "from decouple import config"
   ]
  },
  {
   "cell_type": "code",
   "execution_count": 2,
   "metadata": {},
   "outputs": [],
   "source": [
    "Token_Twitter = config('TWITTER_TOKEN')\n",
    "csvData = config('TWITTER_CODE')"
   ]
  }
 ],
 "metadata": {
  "kernelspec": {
   "display_name": "Python 3.10.6 ('venv': venv)",
   "language": "python",
   "name": "python3"
  },
  "language_info": {
   "codemirror_mode": {
    "name": "ipython",
    "version": 3
   },
   "file_extension": ".py",
   "mimetype": "text/x-python",
   "name": "python",
   "nbconvert_exporter": "python",
   "pygments_lexer": "ipython3",
   "version": "3.10.6"
  },
  "orig_nbformat": 4,
  "vscode": {
   "interpreter": {
    "hash": "65e15074db0ce0c06277cbfe6b2480b7b8f615c27d90593ada4ec7342456f97a"
   }
  }
 },
 "nbformat": 4,
 "nbformat_minor": 2
}
