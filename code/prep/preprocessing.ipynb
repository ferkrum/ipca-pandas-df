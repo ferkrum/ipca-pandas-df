{
 "cells": [
  {
   "cell_type": "markdown",
   "metadata": {},
   "source": [
    "# Baixando série histórica de IPCA\n",
    "\n",
    "Obtendo série histórica relativa à inflação (IPCA) na plataforma de dados abertos do BC, importando e transformando em um DataFrame do Pandas.\n",
    "\n",
    "URL: https://dadosabertos.bcb.gov.br/\n",
    "\n"
   ]
  },
  {
   "cell_type": "code",
   "execution_count": 3,
   "metadata": {},
   "outputs": [],
   "source": [
    "import pandas as pd\n"
   ]
  },
  {
   "cell_type": "code",
   "execution_count": 2,
   "metadata": {},
   "outputs": [],
   "source": []
  }
 ],
 "metadata": {
  "kernelspec": {
   "display_name": "Python 3.10.6 ('venv': venv)",
   "language": "python",
   "name": "python3"
  },
  "language_info": {
   "codemirror_mode": {
    "name": "ipython",
    "version": 3
   },
   "file_extension": ".py",
   "mimetype": "text/x-python",
   "name": "python",
   "nbconvert_exporter": "python",
   "pygments_lexer": "ipython3",
   "version": "3.10.6"
  },
  "orig_nbformat": 4,
  "vscode": {
   "interpreter": {
    "hash": "65e15074db0ce0c06277cbfe6b2480b7b8f615c27d90593ada4ec7342456f97a"
   }
  }
 },
 "nbformat": 4,
 "nbformat_minor": 2
}
